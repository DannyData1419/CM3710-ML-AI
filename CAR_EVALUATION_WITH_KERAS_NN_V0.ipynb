{
  "cells": [
    {
      "cell_type": "markdown",
      "metadata": {
        "id": "view-in-github",
        "colab_type": "text"
      },
      "source": [
        "<a href=\"https://colab.research.google.com/github/DannyData1419/CM3710-ML-AI/blob/main/CAR_EVALUATION_WITH_KERAS_NN_V0.ipynb\" target=\"_parent\"><img src=\"https://colab.research.google.com/assets/colab-badge.svg\" alt=\"Open In Colab\"/></a>"
      ]
    },
    {
      "cell_type": "markdown",
      "metadata": {
        "id": "Lh9TKN11z7RJ"
      },
      "source": [
        "# CAR EVALUATION WITH KERAS NN V0"
      ]
    },
    {
      "cell_type": "code",
      "execution_count": 1,
      "metadata": {
        "colab": {
          "base_uri": "https://localhost:8080/"
        },
        "id": "h_iyRd0_0AzQ",
        "outputId": "afd0c653-77ca-4e6a-b320-c832f41213da"
      },
      "outputs": [
        {
          "output_type": "stream",
          "name": "stdout",
          "text": [
            "[[0 0 0 ... 0 1 0]\n",
            " [0 0 0 ... 0 0 1]\n",
            " [0 0 0 ... 1 0 0]\n",
            " ...\n",
            " [0 1 0 ... 0 1 0]\n",
            " [0 1 0 ... 0 0 1]\n",
            " [0 1 0 ... 1 0 0]]\n"
          ]
        }
      ],
      "source": [
        "import pandas as pd\n",
        "\n",
        "# Import data\n",
        "url = 'https://archive.ics.uci.edu/ml/machine-learning-databases/car/car.data'\n",
        "column_names = ['buying', 'maintenance', 'doors', 'persons', 'lug_boot', 'safety', 'class']\n",
        "\n",
        "df = pd.read_csv(url, names=column_names, skipinitialspace=True)\n",
        "\n",
        "# Preprocess nominal features into numbers\n",
        "import numpy as np\n",
        "\n",
        "# One-hot-encode features\n",
        "buying = pd.get_dummies(df['buying'])\n",
        "maintenance = pd.get_dummies(df['maintenance'])\n",
        "doors = pd.get_dummies(df['doors'])\n",
        "persons = pd.get_dummies(df['persons'])\n",
        "lug_boot = pd.get_dummies(df['lug_boot'])\n",
        "safety = pd.get_dummies(df['safety'])\n",
        "\n",
        "# Concat one-hot-encoded features to df\n",
        "df = pd.concat((buying, maintenance, doors, persons, lug_boot, safety, df), axis=1)\n",
        "\n",
        "# Drop original features from df \n",
        "df = df.drop(['buying', 'maintenance', 'doors', 'persons', 'lug_boot', 'safety'], axis=1)\n",
        "\n",
        "# Create target and features\n",
        "X = df.drop('class', axis=1).values\n",
        "y = df['class'].values\n",
        "\n",
        "print(X)"
      ]
    },
    {
      "cell_type": "code",
      "execution_count": 2,
      "metadata": {
        "colab": {
          "base_uri": "https://localhost:8080/"
        },
        "id": "Va-ldLqW0GXD",
        "outputId": "eea6c68b-b697-4a18-b5ae-d983219cbefd"
      },
      "outputs": [
        {
          "output_type": "stream",
          "name": "stdout",
          "text": [
            "      acc  good  unacc  vgood\n",
            "0       0     0      1      0\n",
            "1       0     0      1      0\n",
            "2       0     0      1      0\n",
            "3       0     0      1      0\n",
            "4       0     0      1      0\n",
            "...   ...   ...    ...    ...\n",
            "1723    0     1      0      0\n",
            "1724    0     0      0      1\n",
            "1725    0     0      1      0\n",
            "1726    0     1      0      0\n",
            "1727    0     0      0      1\n",
            "\n",
            "[1728 rows x 4 columns]\n"
          ]
        }
      ],
      "source": [
        "# One-hot target for keras NN\n",
        "y = pd.get_dummies(y)\n",
        "print(y)"
      ]
    },
    {
      "cell_type": "code",
      "execution_count": 3,
      "metadata": {
        "colab": {
          "base_uri": "https://localhost:8080/"
        },
        "id": "mKHw-11Dz0Tk",
        "outputId": "08e773a3-9b33-4e36-d328-7e10c222e52a"
      },
      "outputs": [
        {
          "output_type": "stream",
          "name": "stdout",
          "text": [
            "Model: \"sequential\"\n",
            "_________________________________________________________________\n",
            " Layer (type)                Output Shape              Param #   \n",
            "=================================================================\n",
            " dense (Dense)               (None, 32)                704       \n",
            "                                                                 \n",
            " dense_1 (Dense)             (None, 16)                528       \n",
            "                                                                 \n",
            " dense_2 (Dense)             (None, 4)                 68        \n",
            "                                                                 \n",
            "=================================================================\n",
            "Total params: 1,300\n",
            "Trainable params: 1,300\n",
            "Non-trainable params: 0\n",
            "_________________________________________________________________\n"
          ]
        }
      ],
      "source": [
        "from sklearn.model_selection import train_test_split\n",
        "from keras.models import Sequential\n",
        "from keras.layers import Dense\n",
        "import tensorflow as tf\n",
        "from tensorflow import keras\n",
        "from tensorflow.keras import layers\n",
        "\n",
        "# Create train + test split of data 80/20 \n",
        "X_train, X_test, y_train, y_test = train_test_split(X, y, test_size=0.2, random_state=8, stratify=y)\n",
        "\n",
        "model1 = Sequential()\n",
        "model1.add(Dense(32, input_shape=(X_train.shape[1],), activation='relu'))\n",
        "model1.add(Dense(16, activation='relu'))\n",
        "model1.add(Dense(4, activation='sigmoid'))\n",
        "\n",
        "# View model summary\n",
        "model1.summary()"
      ]
    },
    {
      "cell_type": "code",
      "execution_count": 4,
      "metadata": {
        "colab": {
          "base_uri": "https://localhost:8080/"
        },
        "id": "qbn4iodrFBoh",
        "outputId": "ebf4b010-f16d-4c16-878b-13fcab8ce71f"
      },
      "outputs": [
        {
          "output_type": "stream",
          "name": "stdout",
          "text": [
            "Epoch 1/10\n",
            "87/87 [==============================] - 2s 6ms/step - loss: 0.5356 - accuracy: 0.5507 - val_loss: 0.3649 - val_accuracy: 0.6994\n",
            "Epoch 2/10\n",
            "87/87 [==============================] - 1s 8ms/step - loss: 0.3059 - accuracy: 0.7019 - val_loss: 0.2574 - val_accuracy: 0.7341\n",
            "Epoch 3/10\n",
            "87/87 [==============================] - 1s 8ms/step - loss: 0.2124 - accuracy: 0.8126 - val_loss: 0.1917 - val_accuracy: 0.8382\n",
            "Epoch 4/10\n",
            "87/87 [==============================] - 1s 11ms/step - loss: 0.1620 - accuracy: 0.8726 - val_loss: 0.1611 - val_accuracy: 0.8555\n",
            "Epoch 5/10\n",
            "87/87 [==============================] - 1s 11ms/step - loss: 0.1379 - accuracy: 0.8799 - val_loss: 0.1438 - val_accuracy: 0.8642\n",
            "Epoch 6/10\n",
            "87/87 [==============================] - 1s 10ms/step - loss: 0.1239 - accuracy: 0.8864 - val_loss: 0.1324 - val_accuracy: 0.8728\n",
            "Epoch 7/10\n",
            "87/87 [==============================] - 1s 6ms/step - loss: 0.1139 - accuracy: 0.9067 - val_loss: 0.1223 - val_accuracy: 0.9017\n",
            "Epoch 8/10\n",
            "87/87 [==============================] - 1s 11ms/step - loss: 0.1041 - accuracy: 0.9211 - val_loss: 0.1150 - val_accuracy: 0.9017\n",
            "Epoch 9/10\n",
            "87/87 [==============================] - 1s 6ms/step - loss: 0.0960 - accuracy: 0.9226 - val_loss: 0.1080 - val_accuracy: 0.9191\n",
            "Epoch 10/10\n",
            "87/87 [==============================] - 1s 9ms/step - loss: 0.0893 - accuracy: 0.9291 - val_loss: 0.0999 - val_accuracy: 0.9191\n"
          ]
        },
        {
          "output_type": "execute_result",
          "data": {
            "text/plain": [
              "<keras.callbacks.History at 0x7f2cac355370>"
            ]
          },
          "metadata": {},
          "execution_count": 4
        }
      ],
      "source": [
        "# Compile the model\n",
        "from keras import metrics\n",
        "\n",
        "# Model 1 using loss='binary_crossentropy', optimizer='adam' \n",
        "model1.compile(loss='binary_crossentropy', optimizer='adam', metrics=['accuracy'])\n",
        "\n",
        "epochs = 10 # epochs = number of training iterations examining the full training set\n",
        "batch_size = 16 # keep batch size low for small datasets \n",
        "\n",
        "# Train model\n",
        "model1.fit(X_train, y_train, epochs=epochs, batch_size=batch_size, validation_data=(X_test, y_test))"
      ]
    },
    {
      "cell_type": "code",
      "execution_count": 5,
      "metadata": {
        "id": "OKn9gnZzGa3N",
        "colab": {
          "base_uri": "https://localhost:8080/"
        },
        "outputId": "c9a3982e-6aed-43c2-87a6-6a501b83fa54"
      },
      "outputs": [
        {
          "output_type": "stream",
          "name": "stdout",
          "text": [
            "11/11 - 0s - loss: 0.0999 - accuracy: 0.9191 - 88ms/epoch - 8ms/step\n",
            "Evaluation metrics:\n",
            "loss: 0.09993091225624084 \n",
            "accuracy: 0.9190751314163208\n"
          ]
        }
      ],
      "source": [
        "# Test model1 on validation data\n",
        "score = model1.evaluate(X_test, y_test,verbose=2)\n",
        "print('Evaluation metrics:\\nloss:', score[0], '\\naccuracy:',score[1])"
      ]
    }
  ],
  "metadata": {
    "colab": {
      "provenance": [],
      "authorship_tag": "ABX9TyO5JERE+DwwSMgi0A6qPc2u",
      "include_colab_link": true
    },
    "kernelspec": {
      "display_name": "Python 3",
      "name": "python3"
    },
    "language_info": {
      "name": "python"
    }
  },
  "nbformat": 4,
  "nbformat_minor": 0
}