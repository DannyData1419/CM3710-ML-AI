{
  "cells": [
    {
      "cell_type": "markdown",
      "metadata": {
        "id": "view-in-github",
        "colab_type": "text"
      },
      "source": [
        "<a href=\"https://colab.research.google.com/github/DannyData1419/CM3710-ML-AI/blob/main/CAR_EVALUATION_WITH_KERAS_NN_V1.ipynb\" target=\"_parent\"><img src=\"https://colab.research.google.com/assets/colab-badge.svg\" alt=\"Open In Colab\"/></a>"
      ]
    },
    {
      "cell_type": "markdown",
      "metadata": {
        "id": "Lh9TKN11z7RJ"
      },
      "source": [
        "# CAR EVALUATION WITH KERAS NN V1"
      ]
    },
    {
      "cell_type": "code",
      "execution_count": 1,
      "metadata": {
        "colab": {
          "base_uri": "https://localhost:8080/"
        },
        "id": "h_iyRd0_0AzQ",
        "outputId": "6ee8f64d-c6fb-4f66-fb12-a4d4010e931d"
      },
      "outputs": [
        {
          "output_type": "stream",
          "name": "stdout",
          "text": [
            "[[0 0 0 ... 0 1 0]\n",
            " [0 0 0 ... 0 0 1]\n",
            " [0 0 0 ... 1 0 0]\n",
            " ...\n",
            " [0 1 0 ... 0 1 0]\n",
            " [0 1 0 ... 0 0 1]\n",
            " [0 1 0 ... 1 0 0]]\n"
          ]
        }
      ],
      "source": [
        "import pandas as pd\n",
        "\n",
        "# Import data\n",
        "url = 'https://archive.ics.uci.edu/ml/machine-learning-databases/car/car.data'\n",
        "column_names = ['buying', 'maintenance', 'doors', 'persons', 'lug_boot', 'safety', 'class']\n",
        "\n",
        "df = pd.read_csv(url, names=column_names, skipinitialspace=True)\n",
        "\n",
        "import numpy as np\n",
        "\n",
        "# One-hot-encode features\n",
        "buying = pd.get_dummies(df['buying'])\n",
        "maintenance = pd.get_dummies(df['maintenance'])\n",
        "doors = pd.get_dummies(df['doors'])\n",
        "persons = pd.get_dummies(df['persons'])\n",
        "lug_boot = pd.get_dummies(df['lug_boot'])\n",
        "safety = pd.get_dummies(df['safety'])\n",
        "\n",
        "# Concat one-hot-encoded features to df\n",
        "df = pd.concat((buying, maintenance, doors, persons, lug_boot, safety, df), axis=1)\n",
        "\n",
        "# Drop original features from df \n",
        "df = df.drop(['buying', 'maintenance', 'doors', 'persons', 'lug_boot', 'safety'], axis=1)\n",
        "\n",
        "# Create target and features\n",
        "X = df.drop('class', axis=1).values\n",
        "y = df['class'].values\n",
        "\n",
        "print(X)"
      ]
    },
    {
      "cell_type": "code",
      "execution_count": 2,
      "metadata": {
        "colab": {
          "base_uri": "https://localhost:8080/"
        },
        "id": "Va-ldLqW0GXD",
        "outputId": "f2fbe77d-c90c-45fe-c9cf-a73e355928f7"
      },
      "outputs": [
        {
          "output_type": "stream",
          "name": "stdout",
          "text": [
            "      acc  good  unacc  vgood\n",
            "0       0     0      1      0\n",
            "1       0     0      1      0\n",
            "2       0     0      1      0\n",
            "3       0     0      1      0\n",
            "4       0     0      1      0\n",
            "...   ...   ...    ...    ...\n",
            "1723    0     1      0      0\n",
            "1724    0     0      0      1\n",
            "1725    0     0      1      0\n",
            "1726    0     1      0      0\n",
            "1727    0     0      0      1\n",
            "\n",
            "[1728 rows x 4 columns]\n"
          ]
        }
      ],
      "source": [
        "# One-hot target for keras NN\n",
        "y = pd.get_dummies(y)\n",
        "print(y)"
      ]
    },
    {
      "cell_type": "code",
      "execution_count": 3,
      "metadata": {
        "colab": {
          "base_uri": "https://localhost:8080/"
        },
        "id": "mKHw-11Dz0Tk",
        "outputId": "a055b6ff-609e-47ff-cc8a-3e77e7a6edfd"
      },
      "outputs": [
        {
          "output_type": "stream",
          "name": "stdout",
          "text": [
            "Model: \"sequential\"\n",
            "_________________________________________________________________\n",
            " Layer (type)                Output Shape              Param #   \n",
            "=================================================================\n",
            " dense (Dense)               (None, 64)                1408      \n",
            "                                                                 \n",
            " dense_1 (Dense)             (None, 64)                4160      \n",
            "                                                                 \n",
            " dense_2 (Dense)             (None, 4)                 260       \n",
            "                                                                 \n",
            "=================================================================\n",
            "Total params: 5,828\n",
            "Trainable params: 5,828\n",
            "Non-trainable params: 0\n",
            "_________________________________________________________________\n"
          ]
        }
      ],
      "source": [
        "from sklearn.model_selection import train_test_split\n",
        "from keras.models import Sequential\n",
        "from keras.layers import Dense\n",
        "import tensorflow as tf\n",
        "from tensorflow import keras\n",
        "from tensorflow.keras import layers\n",
        "\n",
        "# Create train + test split of data 80/20 \n",
        "X_train, X_test, y_train, y_test = train_test_split(X, y, test_size=0.2, random_state=8, stratify=y)\n",
        "\n",
        "# Model 1\n",
        "model1 = keras.Sequential(\n",
        "    [\n",
        "        keras.Input(shape=(X_train.shape[1])), # Input layer=4\n",
        "        layers.Dense(64, activation='relu'),\n",
        "        layers.Dense(64, activation='sigmoid'),\n",
        "        layers.Dense(4, activation='softmax') # Output layer=4\n",
        "     ]\n",
        ")\n",
        "\n",
        "# Model 2\n",
        "model2 = keras.Sequential(\n",
        "    [\n",
        "        keras.Input(shape=(X_train.shape[1])), # Input layer=4\n",
        "        layers.Dense(64, activation='relu'),\n",
        "        layers.Dense(64, activation='sigmoid'),\n",
        "        layers.Dense(4, activation='softmax') # Output layer=4\n",
        "     ]\n",
        ")\n",
        "\n",
        "# View model summary\n",
        "model1.summary()"
      ]
    },
    {
      "cell_type": "code",
      "execution_count": 4,
      "metadata": {
        "colab": {
          "base_uri": "https://localhost:8080/"
        },
        "id": "qbn4iodrFBoh",
        "outputId": "6149f62f-72d9-4768-e697-7494eb920110"
      },
      "outputs": [
        {
          "output_type": "stream",
          "name": "stdout",
          "text": [
            "Epoch 1/10\n",
            "87/87 [==============================] - 7s 24ms/step - loss: 0.4137 - accuracy: 0.6657 - precision: 0.7007 - recall: 0.6013 - auc: 0.8590 - mean_squared_error: 0.1244 - val_loss: 0.3369 - val_accuracy: 0.6994 - val_precision: 0.6994 - val_recall: 0.6994 - val_auc: 0.9297 - val_mean_squared_error: 0.1154\n",
            "Epoch 2/10\n",
            "87/87 [==============================] - 2s 18ms/step - loss: 0.2883 - accuracy: 0.7178 - precision: 0.7307 - recall: 0.7106 - auc: 0.9438 - mean_squared_error: 0.0884 - val_loss: 0.2441 - val_accuracy: 0.7572 - val_precision: 0.7846 - val_recall: 0.7370 - val_auc: 0.9609 - val_mean_squared_error: 0.0698\n",
            "Epoch 3/10\n",
            "87/87 [==============================] - 1s 12ms/step - loss: 0.2030 - accuracy: 0.8430 - precision: 0.8589 - recall: 0.8278 - auc: 0.9741 - mean_squared_error: 0.0558 - val_loss: 0.1921 - val_accuracy: 0.8092 - val_precision: 0.8136 - val_recall: 0.7948 - val_auc: 0.9715 - val_mean_squared_error: 0.0637\n",
            "Epoch 4/10\n",
            "87/87 [==============================] - 1s 17ms/step - loss: 0.1654 - accuracy: 0.8625 - precision: 0.8699 - recall: 0.8567 - auc: 0.9811 - mean_squared_error: 0.0497 - val_loss: 0.1662 - val_accuracy: 0.8468 - val_precision: 0.8580 - val_recall: 0.8382 - val_auc: 0.9796 - val_mean_squared_error: 0.0534\n",
            "Epoch 5/10\n",
            "87/87 [==============================] - 1s 17ms/step - loss: 0.1453 - accuracy: 0.8748 - precision: 0.8790 - recall: 0.8676 - auc: 0.9868 - mean_squared_error: 0.0448 - val_loss: 0.1510 - val_accuracy: 0.8613 - val_precision: 0.8630 - val_recall: 0.8555 - val_auc: 0.9835 - val_mean_squared_error: 0.0499\n",
            "Epoch 6/10\n",
            "87/87 [==============================] - 1s 15ms/step - loss: 0.1329 - accuracy: 0.8792 - precision: 0.8799 - recall: 0.8748 - auc: 0.9890 - mean_squared_error: 0.0406 - val_loss: 0.1392 - val_accuracy: 0.8642 - val_precision: 0.8692 - val_recall: 0.8642 - val_auc: 0.9875 - val_mean_squared_error: 0.0441\n",
            "Epoch 7/10\n",
            "87/87 [==============================] - 0s 5ms/step - loss: 0.1212 - accuracy: 0.8828 - precision: 0.8878 - recall: 0.8821 - auc: 0.9910 - mean_squared_error: 0.0363 - val_loss: 0.1314 - val_accuracy: 0.8584 - val_precision: 0.8684 - val_recall: 0.8584 - val_auc: 0.9876 - val_mean_squared_error: 0.0421\n",
            "Epoch 8/10\n",
            "87/87 [==============================] - 0s 6ms/step - loss: 0.1120 - accuracy: 0.8936 - precision: 0.9162 - recall: 0.8857 - auc: 0.9923 - mean_squared_error: 0.0315 - val_loss: 0.1195 - val_accuracy: 0.8757 - val_precision: 0.9072 - val_recall: 0.8757 - val_auc: 0.9906 - val_mean_squared_error: 0.0351\n",
            "Epoch 9/10\n",
            "87/87 [==============================] - 0s 5ms/step - loss: 0.1035 - accuracy: 0.9052 - precision: 0.9238 - recall: 0.8864 - auc: 0.9932 - mean_squared_error: 0.0294 - val_loss: 0.1124 - val_accuracy: 0.9104 - val_precision: 0.9179 - val_recall: 0.8728 - val_auc: 0.9916 - val_mean_squared_error: 0.0322\n",
            "Epoch 10/10\n",
            "87/87 [==============================] - 0s 5ms/step - loss: 0.0959 - accuracy: 0.9240 - precision: 0.9393 - recall: 0.8965 - auc: 0.9945 - mean_squared_error: 0.0256 - val_loss: 0.1033 - val_accuracy: 0.9162 - val_precision: 0.9294 - val_recall: 0.8757 - val_auc: 0.9933 - val_mean_squared_error: 0.0285\n",
            "Epoch 1/10\n",
            "87/87 [==============================] - 2s 7ms/step - loss: 0.9237 - accuracy: 0.6889 - precision: 0.6934 - recall: 0.6122 - auc: 0.8446 - mean_squared_error: 0.1235 - val_loss: 0.8523 - val_accuracy: 0.6994 - val_precision: 0.6994 - val_recall: 0.6994 - val_auc: 0.8494 - val_mean_squared_error: 0.1159\n",
            "Epoch 2/10\n",
            "87/87 [==============================] - 0s 3ms/step - loss: 0.8408 - accuracy: 0.7004 - precision: 0.7004 - recall: 0.7004 - auc: 0.8605 - mean_squared_error: 0.1147 - val_loss: 0.8403 - val_accuracy: 0.6994 - val_precision: 0.6994 - val_recall: 0.6994 - val_auc: 0.8574 - val_mean_squared_error: 0.1148\n",
            "Epoch 3/10\n",
            "87/87 [==============================] - 0s 3ms/step - loss: 0.8333 - accuracy: 0.7004 - precision: 0.7004 - recall: 0.7004 - auc: 0.8687 - mean_squared_error: 0.1138 - val_loss: 0.8347 - val_accuracy: 0.6994 - val_precision: 0.6994 - val_recall: 0.6994 - val_auc: 0.8708 - val_mean_squared_error: 0.1140\n",
            "Epoch 4/10\n",
            "87/87 [==============================] - 0s 3ms/step - loss: 0.8268 - accuracy: 0.7004 - precision: 0.7004 - recall: 0.7004 - auc: 0.8775 - mean_squared_error: 0.1128 - val_loss: 0.8299 - val_accuracy: 0.6994 - val_precision: 0.6994 - val_recall: 0.6994 - val_auc: 0.8788 - val_mean_squared_error: 0.1133\n",
            "Epoch 5/10\n",
            "87/87 [==============================] - 0s 3ms/step - loss: 0.8212 - accuracy: 0.7004 - precision: 0.7004 - recall: 0.7004 - auc: 0.8874 - mean_squared_error: 0.1119 - val_loss: 0.8242 - val_accuracy: 0.6994 - val_precision: 0.6994 - val_recall: 0.6994 - val_auc: 0.8890 - val_mean_squared_error: 0.1125\n",
            "Epoch 6/10\n",
            "87/87 [==============================] - 0s 3ms/step - loss: 0.8150 - accuracy: 0.7004 - precision: 0.7004 - recall: 0.7004 - auc: 0.8919 - mean_squared_error: 0.1110 - val_loss: 0.8187 - val_accuracy: 0.6994 - val_precision: 0.6994 - val_recall: 0.6994 - val_auc: 0.8977 - val_mean_squared_error: 0.1116\n",
            "Epoch 7/10\n",
            "87/87 [==============================] - 0s 3ms/step - loss: 0.8084 - accuracy: 0.7004 - precision: 0.7004 - recall: 0.7004 - auc: 0.9015 - mean_squared_error: 0.1099 - val_loss: 0.8120 - val_accuracy: 0.6994 - val_precision: 0.6994 - val_recall: 0.6994 - val_auc: 0.9035 - val_mean_squared_error: 0.1104\n",
            "Epoch 8/10\n",
            "87/87 [==============================] - 0s 3ms/step - loss: 0.8011 - accuracy: 0.7004 - precision: 0.7004 - recall: 0.7004 - auc: 0.9097 - mean_squared_error: 0.1087 - val_loss: 0.8047 - val_accuracy: 0.6994 - val_precision: 0.6994 - val_recall: 0.6994 - val_auc: 0.9102 - val_mean_squared_error: 0.1093\n",
            "Epoch 9/10\n",
            "87/87 [==============================] - 0s 3ms/step - loss: 0.7935 - accuracy: 0.7004 - precision: 0.7004 - recall: 0.7004 - auc: 0.9142 - mean_squared_error: 0.1076 - val_loss: 0.7977 - val_accuracy: 0.6994 - val_precision: 0.6994 - val_recall: 0.6994 - val_auc: 0.9156 - val_mean_squared_error: 0.1080\n",
            "Epoch 10/10\n",
            "87/87 [==============================] - 0s 3ms/step - loss: 0.7843 - accuracy: 0.7004 - precision: 0.7004 - recall: 0.7004 - auc: 0.9173 - mean_squared_error: 0.1061 - val_loss: 0.7897 - val_accuracy: 0.6994 - val_precision: 0.6994 - val_recall: 0.6994 - val_auc: 0.9182 - val_mean_squared_error: 0.1066\n"
          ]
        },
        {
          "output_type": "execute_result",
          "data": {
            "text/plain": [
              "<keras.callbacks.History at 0x7fd5cab9d790>"
            ]
          },
          "metadata": {},
          "execution_count": 4
        }
      ],
      "source": [
        "# Compile the model\n",
        "from keras import metrics\n",
        "# metrics=['accuracy', 'Precision', 'Recall', 'AUC', 'MeanSquaredError']\n",
        "\n",
        "# Model 1 using loss='binary_crossentropy', optimizer='adam' \n",
        "model1.compile(loss='binary_crossentropy', optimizer='adam', metrics=['accuracy', 'Precision', 'Recall', 'AUC', 'MeanSquaredError'])\n",
        "\n",
        "# Model 2 using loss='categorical_crossentropy', optimizer='sgd'\n",
        "model2.compile(loss='categorical_crossentropy', optimizer='sgd', metrics=['accuracy', 'Precision', 'Recall', 'AUC', 'MeanSquaredError'])\n",
        "\n",
        "epochs = 10 # epochs = number of training iterations examining the full training set\n",
        "batch_size = 16 # keep batch size low for small datasets \n",
        "\n",
        "# Train model\n",
        "model1.fit(X_train, y_train, epochs=epochs, batch_size=batch_size, validation_data=(X_test, y_test))\n",
        "\n",
        "model2.fit(X_train, y_train, epochs=epochs, batch_size=batch_size, validation_data=(X_test, y_test))"
      ]
    },
    {
      "cell_type": "code",
      "execution_count": 5,
      "metadata": {
        "colab": {
          "base_uri": "https://localhost:8080/"
        },
        "id": "hpniXQepO_If",
        "outputId": "fef2263f-d591-4eb3-90a6-0808455e70f0"
      },
      "outputs": [
        {
          "output_type": "stream",
          "name": "stdout",
          "text": [
            "Epoch 1/10\n",
            "87/87 [==============================] - 0s 4ms/step - loss: 0.7747 - accuracy: 0.7004 - precision: 0.7004 - recall: 0.7004 - auc: 0.9225 - mean_squared_error: 0.1045 - val_loss: 0.7811 - val_accuracy: 0.6994 - val_precision: 0.6994 - val_recall: 0.6994 - val_auc: 0.9241 - val_mean_squared_error: 0.1051\n",
            "Epoch 2/10\n",
            "87/87 [==============================] - 0s 3ms/step - loss: 0.7634 - accuracy: 0.7004 - precision: 0.7004 - recall: 0.7004 - auc: 0.9276 - mean_squared_error: 0.1024 - val_loss: 0.7721 - val_accuracy: 0.6994 - val_precision: 0.6994 - val_recall: 0.6994 - val_auc: 0.9270 - val_mean_squared_error: 0.1049\n",
            "Epoch 3/10\n",
            "87/87 [==============================] - 0s 3ms/step - loss: 0.7528 - accuracy: 0.7004 - precision: 0.7004 - recall: 0.7004 - auc: 0.9287 - mean_squared_error: 0.1012 - val_loss: 0.7569 - val_accuracy: 0.6994 - val_precision: 0.6994 - val_recall: 0.6994 - val_auc: 0.9293 - val_mean_squared_error: 0.1012\n",
            "Epoch 4/10\n",
            "87/87 [==============================] - 0s 3ms/step - loss: 0.7385 - accuracy: 0.7004 - precision: 0.7004 - recall: 0.7004 - auc: 0.9318 - mean_squared_error: 0.0986 - val_loss: 0.7435 - val_accuracy: 0.6994 - val_precision: 0.6994 - val_recall: 0.6994 - val_auc: 0.9311 - val_mean_squared_error: 0.0990\n",
            "Epoch 5/10\n",
            "87/87 [==============================] - 0s 3ms/step - loss: 0.7242 - accuracy: 0.7004 - precision: 0.7040 - recall: 0.7004 - auc: 0.9342 - mean_squared_error: 0.0962 - val_loss: 0.7281 - val_accuracy: 0.6994 - val_precision: 0.7035 - val_recall: 0.6994 - val_auc: 0.9325 - val_mean_squared_error: 0.0969\n",
            "Epoch 6/10\n",
            "87/87 [==============================] - 0s 3ms/step - loss: 0.7067 - accuracy: 0.7004 - precision: 0.7118 - recall: 0.7004 - auc: 0.9352 - mean_squared_error: 0.0935 - val_loss: 0.7120 - val_accuracy: 0.6994 - val_precision: 0.7224 - val_recall: 0.6994 - val_auc: 0.9336 - val_mean_squared_error: 0.0943\n",
            "Epoch 7/10\n",
            "87/87 [==============================] - 0s 3ms/step - loss: 0.6895 - accuracy: 0.7012 - precision: 0.7246 - recall: 0.7004 - auc: 0.9367 - mean_squared_error: 0.0907 - val_loss: 0.6949 - val_accuracy: 0.6994 - val_precision: 0.7333 - val_recall: 0.6994 - val_auc: 0.9347 - val_mean_squared_error: 0.0920\n",
            "Epoch 8/10\n",
            "87/87 [==============================] - 0s 3ms/step - loss: 0.6693 - accuracy: 0.7019 - precision: 0.7395 - recall: 0.7004 - auc: 0.9378 - mean_squared_error: 0.0878 - val_loss: 0.6813 - val_accuracy: 0.7283 - val_precision: 0.8060 - val_recall: 0.6965 - val_auc: 0.9372 - val_mean_squared_error: 0.0883\n",
            "Epoch 9/10\n",
            "87/87 [==============================] - 0s 3ms/step - loss: 0.6504 - accuracy: 0.7127 - precision: 0.7825 - recall: 0.7004 - auc: 0.9397 - mean_squared_error: 0.0843 - val_loss: 0.6571 - val_accuracy: 0.7197 - val_precision: 0.7857 - val_recall: 0.6994 - val_auc: 0.9381 - val_mean_squared_error: 0.0856\n",
            "Epoch 10/10\n",
            "87/87 [==============================] - 0s 3ms/step - loss: 0.6294 - accuracy: 0.7250 - precision: 0.7988 - recall: 0.7012 - auc: 0.9418 - mean_squared_error: 0.0812 - val_loss: 0.6370 - val_accuracy: 0.7197 - val_precision: 0.7908 - val_recall: 0.6994 - val_auc: 0.9403 - val_mean_squared_error: 0.0830\n"
          ]
        },
        {
          "output_type": "execute_result",
          "data": {
            "text/plain": [
              "<keras.callbacks.History at 0x7fd5cee35a00>"
            ]
          },
          "metadata": {},
          "execution_count": 5
        }
      ],
      "source": [
        "# Train model\n",
        "model2.fit(X_train, y_train, epochs=epochs, batch_size=batch_size, validation_data=(X_test, y_test))"
      ]
    },
    {
      "cell_type": "code",
      "execution_count": 6,
      "metadata": {
        "id": "OKn9gnZzGa3N",
        "colab": {
          "base_uri": "https://localhost:8080/"
        },
        "outputId": "02b77f0f-b61a-4fe5-9cda-440ab1925ca0"
      },
      "outputs": [
        {
          "output_type": "stream",
          "name": "stdout",
          "text": [
            "Evaluation metrics:\n",
            "loss: 0.10334122180938721 \n",
            "accuracy: 0.9161849617958069 \n",
            "precision: 0.9294478297233582 \n",
            "recall: 0.8757225275039673 \n",
            "AUC: 0.9932785630226135 \n",
            "MSE: 0.028487715870141983\n"
          ]
        }
      ],
      "source": [
        "# Test model1 on validation data\n",
        "score = model1.evaluate(X_test, y_test,verbose=0)\n",
        "print('Evaluation metrics:\\nloss:', score[0], '\\naccuracy:',score[1], '\\nprecision:',score[2], '\\nrecall:', score[3], '\\nAUC:', score[4], '\\nMSE:', score[5])\n"
      ]
    },
    {
      "cell_type": "code",
      "execution_count": 7,
      "metadata": {
        "id": "L9G5HIhZPDRS",
        "colab": {
          "base_uri": "https://localhost:8080/"
        },
        "outputId": "157accf2-6cdd-46d9-d71a-20a746172e60"
      },
      "outputs": [
        {
          "output_type": "stream",
          "name": "stdout",
          "text": [
            "Evaluation metrics:\n",
            "loss: 0.6370258927345276 \n",
            "accuracy: 0.7196531891822815 \n",
            "precision: 0.7908496856689453 \n",
            "recall: 0.6994219422340393 \n",
            "AUC: 0.9402544498443604 \n",
            "MSE: 0.08295272290706635\n"
          ]
        }
      ],
      "source": [
        "# Test model2 on validation data\n",
        "score = model2.evaluate(X_test, y_test,verbose=0)\n",
        "print('Evaluation metrics:\\nloss:', score[0], '\\naccuracy:',score[1], '\\nprecision:',score[2], '\\nrecall:', score[3], '\\nAUC:', score[4], '\\nMSE:', score[5])"
      ]
    }
  ],
  "metadata": {
    "colab": {
      "provenance": [],
      "authorship_tag": "ABX9TyOiOI6FcKXUZZ0K+tN5PKCE",
      "include_colab_link": true
    },
    "kernelspec": {
      "display_name": "Python 3",
      "name": "python3"
    },
    "language_info": {
      "name": "python"
    }
  },
  "nbformat": 4,
  "nbformat_minor": 0
}