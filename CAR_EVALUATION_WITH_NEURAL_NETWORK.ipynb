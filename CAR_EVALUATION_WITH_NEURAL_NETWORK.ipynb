{
  "nbformat": 4,
  "nbformat_minor": 0,
  "metadata": {
    "colab": {
      "provenance": [],
      "authorship_tag": "ABX9TyPbhUDzoCqB5v8SV3MiDU4R",
      "include_colab_link": true
    },
    "kernelspec": {
      "name": "python3",
      "display_name": "Python 3"
    },
    "language_info": {
      "name": "python"
    }
  },
  "cells": [
    {
      "cell_type": "markdown",
      "metadata": {
        "id": "view-in-github",
        "colab_type": "text"
      },
      "source": [
        "<a href=\"https://colab.research.google.com/github/DannyData1419/CM3710-ML-AI/blob/main/CAR_EVALUATION_WITH_NEURAL_NETWORK.ipynb\" target=\"_parent\"><img src=\"https://colab.research.google.com/assets/colab-badge.svg\" alt=\"Open In Colab\"/></a>"
      ]
    },
    {
      "cell_type": "code",
      "source": [
        "import pandas as pd\n",
        "\n",
        "# Import data\n",
        "url = 'https://archive.ics.uci.edu/ml/machine-learning-databases/car/car.data'\n",
        "column_names = ['buying', 'maintenance', 'doors', 'persons', 'lug_boot', 'safety', 'class']\n",
        "\n",
        "raw_dataset = pd.read_csv(url, names=column_names, skipinitialspace=True)\n",
        "df = raw_dataset\n",
        "\n",
        "# View sample of raw dataset\n",
        "#df.sample(10)"
      ],
      "metadata": {
        "id": "RI7UycHf1Qfg"
      },
      "execution_count": null,
      "outputs": []
    },
    {
      "cell_type": "code",
      "source": [
        "# Preprocess nominal features into numbers\n",
        "import numpy as np\n",
        "\n",
        "# One-hot-encode features\n",
        "buying = pd.get_dummies(df['buying'])\n",
        "maintenance = pd.get_dummies(df['maintenance'])\n",
        "doors = pd.get_dummies(df['doors'])\n",
        "persons = pd.get_dummies(df['persons'])\n",
        "lug_boot = pd.get_dummies(df['lug_boot'])\n",
        "safety = pd.get_dummies(df['safety'])\n",
        "\n",
        "# Concat one-hot-encoded features to df\n",
        "df = pd.concat((buying, maintenance, doors, persons, lug_boot, safety, df), axis=1)\n",
        "\n",
        "# Drop original features from df \n",
        "df = df.drop(['buying', 'maintenance', 'doors', 'persons', 'lug_boot', 'safety'], axis=1)\n",
        "\n",
        "# Create target and features\n",
        "X = df.drop('class', axis=1).values\n",
        "y = df['class'].values\n",
        "\n",
        "print(f\"Preprocessed one-hot shape: {df.shape} \\n{X}\")"
      ],
      "metadata": {
        "colab": {
          "base_uri": "https://localhost:8080/"
        },
        "id": "KUv_SYVK1Sgc",
        "outputId": "5617bdfb-e12d-42d5-902c-396d709f4139"
      },
      "execution_count": null,
      "outputs": [
        {
          "output_type": "stream",
          "name": "stdout",
          "text": [
            "Preprocessed one-hot shape: (1728, 22) \n",
            "[[0 0 0 ... 0 1 0]\n",
            " [0 0 0 ... 0 0 1]\n",
            " [0 0 0 ... 1 0 0]\n",
            " ...\n",
            " [0 1 0 ... 0 1 0]\n",
            " [0 1 0 ... 0 0 1]\n",
            " [0 1 0 ... 1 0 0]]\n"
          ]
        }
      ]
    },
    {
      "cell_type": "code",
      "source": [
        "# One-hot target for keras\n",
        "y = pd.get_dummies(y)\n",
        "print(y)"
      ],
      "metadata": {
        "colab": {
          "base_uri": "https://localhost:8080/"
        },
        "id": "5eZ_gqg16ipa",
        "outputId": "5db0ada1-4145-4736-8e62-6cf89f684f09"
      },
      "execution_count": null,
      "outputs": [
        {
          "output_type": "stream",
          "name": "stdout",
          "text": [
            "      acc  good  unacc  vgood\n",
            "0       0     0      1      0\n",
            "1       0     0      1      0\n",
            "2       0     0      1      0\n",
            "3       0     0      1      0\n",
            "4       0     0      1      0\n",
            "...   ...   ...    ...    ...\n",
            "1723    0     1      0      0\n",
            "1724    0     0      0      1\n",
            "1725    0     0      1      0\n",
            "1726    0     1      0      0\n",
            "1727    0     0      0      1\n",
            "\n",
            "[1728 rows x 4 columns]\n"
          ]
        }
      ]
    },
    {
      "cell_type": "code",
      "execution_count": null,
      "metadata": {
        "colab": {
          "base_uri": "https://localhost:8080/"
        },
        "id": "LG8dwqm7vpnD",
        "outputId": "d0f18092-ea38-4655-df7a-b6c438980811"
      },
      "outputs": [
        {
          "output_type": "stream",
          "name": "stdout",
          "text": [
            "Epoch 1/10\n",
            "44/44 [==============================] - 1s 8ms/step - loss: 0.6280 - accuracy: 0.5832 - val_loss: 0.5302 - val_accuracy: 0.6994\n",
            "Epoch 2/10\n",
            "44/44 [==============================] - 0s 3ms/step - loss: 0.4487 - accuracy: 0.7004 - val_loss: 0.3800 - val_accuracy: 0.6994\n",
            "Epoch 3/10\n",
            "44/44 [==============================] - 0s 3ms/step - loss: 0.3386 - accuracy: 0.7004 - val_loss: 0.3104 - val_accuracy: 0.6994\n",
            "Epoch 4/10\n",
            "44/44 [==============================] - 0s 3ms/step - loss: 0.2798 - accuracy: 0.7127 - val_loss: 0.2603 - val_accuracy: 0.7225\n",
            "Epoch 5/10\n",
            "44/44 [==============================] - 0s 3ms/step - loss: 0.2306 - accuracy: 0.7562 - val_loss: 0.2172 - val_accuracy: 0.7717\n",
            "Epoch 6/10\n",
            "44/44 [==============================] - 0s 3ms/step - loss: 0.1906 - accuracy: 0.8278 - val_loss: 0.1878 - val_accuracy: 0.8092\n",
            "Epoch 7/10\n",
            "44/44 [==============================] - 0s 3ms/step - loss: 0.1647 - accuracy: 0.8502 - val_loss: 0.1686 - val_accuracy: 0.8410\n",
            "Epoch 8/10\n",
            "44/44 [==============================] - 0s 3ms/step - loss: 0.1481 - accuracy: 0.8676 - val_loss: 0.1551 - val_accuracy: 0.8642\n",
            "Epoch 9/10\n",
            "44/44 [==============================] - 0s 3ms/step - loss: 0.1360 - accuracy: 0.8792 - val_loss: 0.1445 - val_accuracy: 0.8497\n",
            "Epoch 10/10\n",
            "44/44 [==============================] - 0s 3ms/step - loss: 0.1269 - accuracy: 0.8900 - val_loss: 0.1362 - val_accuracy: 0.8671\n"
          ]
        }
      ],
      "source": [
        "import numpy as np\n",
        "import pandas as pd\n",
        "from sklearn.model_selection import train_test_split\n",
        "from keras.models import Sequential\n",
        "from keras.layers import Dense\n",
        "import tensorflow as tf\n",
        "from tensorflow import keras\n",
        "from tensorflow.keras import layers\n",
        "\n",
        "# Create train + test split of data\n",
        "X_train, X_test, y_train, y_test = train_test_split(X, y, test_size=0.2, random_state=8, stratify=y)\n",
        "\n",
        "model = Sequential()\n",
        "model.add(Dense(32, input_shape=(X_train.shape[1],), activation='relu'))\n",
        "model.add(Dense(16, activation='relu'))\n",
        "model.add(Dense(4, activation='sigmoid'))\n",
        "\n",
        "# Compile the model\n",
        "model.compile(loss='binary_crossentropy', optimizer='adam', metrics=['accuracy'])\n",
        "\n",
        "# Train the model on the data\n",
        "history = model.fit(X_train, y_train, epochs=10, batch_size=32, validation_data=(X_test, y_test))"
      ]
    },
    {
      "cell_type": "code",
      "source": [
        "# Model evaluation\n",
        "test_loss, test_acc = model.evaluate(X_test, y_test, verbose=2)\n",
        "print('Test accuracy:', test_acc)"
      ],
      "metadata": {
        "colab": {
          "base_uri": "https://localhost:8080/"
        },
        "id": "xmf9h23_GtQQ",
        "outputId": "d73667e8-bca8-4b82-866c-b8112000d03b"
      },
      "execution_count": null,
      "outputs": [
        {
          "output_type": "stream",
          "name": "stdout",
          "text": [
            "11/11 - 0s - loss: 0.1362 - accuracy: 0.8671 - 38ms/epoch - 3ms/step\n",
            "Test accuracy: 0.8670520186424255\n"
          ]
        }
      ]
    },
    {
      "cell_type": "markdown",
      "source": [],
      "metadata": {
        "id": "ClDUvrBXmX4n"
      }
    }
  ]
}